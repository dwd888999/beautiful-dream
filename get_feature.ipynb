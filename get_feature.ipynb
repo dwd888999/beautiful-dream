{
 "cells": [
  {
   "cell_type": "code",
   "execution_count": 368,
   "metadata": {
    "ExecuteTime": {
     "end_time": "2017-11-13T02:29:32.063000Z",
     "start_time": "2017-11-13T02:29:32.038000Z"
    },
    "collapsed": true
   },
   "outputs": [],
   "source": [
    "import pandas as pd\n",
    "import os\n",
    "import matplotlib\n",
    "import itchat\n",
    "import math\n",
    "import operator\n",
    "import xgboost as xgb\n",
    "import matplotlib.pyplot as plt\n",
    "%matplotlib inline"
   ]
  },
  {
   "cell_type": "code",
   "execution_count": 8,
   "metadata": {
    "ExecuteTime": {
     "end_time": "2017-11-09T10:04:16.889000Z",
     "start_time": "2017-11-09T10:04:00.639000Z"
    },
    "collapsed": true
   },
   "outputs": [],
   "source": [
    "user_df=pd.read_csv('./data/t_user.csv')\n",
    "order_df=pd.read_csv('./data/t_order.csv')\n",
    "loan_df=pd.read_csv('./data/t_loan.csv')\n",
    "loan_sum_df=pd.read_csv('./data/t_loan_sum.csv')\n",
    "click_df=pd.read_csv('./data/t_click.csv')"
   ]
  },
  {
   "cell_type": "code",
   "execution_count": 288,
   "metadata": {
    "ExecuteTime": {
     "end_time": "2017-11-12T13:44:30.241000Z",
     "start_time": "2017-11-12T13:44:24.429000Z"
    },
    "collapsed": true
   },
   "outputs": [],
   "source": [
    "loan_dt=datetime.datetime.strptime('2016-11-01 00:00:00','%Y-%m-%d %H:%M:%S')\n",
    "loan_df['loan_gap']=loan_df['loan_time'].apply(lambda x: loan_dt- (datetime.datetime.strptime(x,'%Y-%m-%d %H:%M:%S')))\n",
    "loan_df['loan_gap']=loan_df['loan_gap'].apply(lambda x: x.days)"
   ]
  },
  {
   "cell_type": "markdown",
   "metadata": {},
   "source": [
    "### 划分样本集"
   ]
  },
  {
   "cell_type": "code",
   "execution_count": 293,
   "metadata": {
    "ExecuteTime": {
     "end_time": "2017-11-12T13:45:03.922000Z",
     "start_time": "2017-11-12T13:44:59.378000Z"
    },
    "collapsed": true
   },
   "outputs": [],
   "source": [
    "train_time='2016-11-01'\n",
    "span_time='2016-09-01'\n",
    "train_order_df=order_df[order_df['buy_time']<train_time]\n",
    "train_click_df=click_df[click_df['click_time']<train_time]\n",
    "train_loan_df=loan_df[loan_df['loan_time']<train_time]\n",
    "span_order_df=order_df[order_df['buy_time']>=span_time]\n",
    "span_click_df=click_df[click_df['click_time']>=span_time]\n",
    "span_loan_df=loan_df[loan_df['loan_time']>=span_time]"
   ]
  },
  {
   "cell_type": "markdown",
   "metadata": {
    "ExecuteTime": {
     "end_time": "2017-11-09T10:42:58.490000Z",
     "start_time": "2017-11-09T10:42:58.421000Z"
    }
   },
   "source": [
    "### 获取用户订单信息"
   ]
  },
  {
   "cell_type": "code",
   "execution_count": 259,
   "metadata": {
    "ExecuteTime": {
     "end_time": "2017-11-12T13:28:47.774000Z",
     "start_time": "2017-11-12T13:28:47.749000Z"
    },
    "collapsed": true
   },
   "outputs": [],
   "source": [
    "def get_order_feature(df):\n",
    "    order_group=df.groupby('uid')\n",
    "    order_feature=[]\n",
    "    for uid,group in order_group:\n",
    "        group=group.reset_index()\n",
    "        order_feature_dict={}\n",
    "        order_feature_dict['uid']=uid\n",
    "        order_feature_dict['total_order']=len(group)\n",
    "        order_feature_dict['unique_cate_count']=len(group['cate_id'].unique())\n",
    "        order_feature_dict['max_qty']=group['qty'].max()\n",
    "        order_feature_dict['max_price']=group['price'].max()\n",
    "        order_feature_dict['max_discount']=group['discount'].max()\n",
    "        total_price=0\n",
    "        for i in range(len(group)):\n",
    "            total_price+=group.loc[i,'qty']*group.loc[i,'price']\n",
    "        order_feature_dict['total_price']=total_price\n",
    "        order_feature.append(order_feature_dict)\n",
    "    order_feature_df=pd.DataFrame(order_feature)\n",
    "    return order_feature_df"
   ]
  },
  {
   "cell_type": "code",
   "execution_count": 175,
   "metadata": {
    "ExecuteTime": {
     "end_time": "2017-11-11T03:26:03.584000Z",
     "start_time": "2017-11-11T03:26:03.152000Z"
    },
    "collapsed": true
   },
   "outputs": [],
   "source": [
    "#order_feature_df.to_csv('./feature/order_feature.csv',index=False)"
   ]
  },
  {
   "cell_type": "markdown",
   "metadata": {
    "ExecuteTime": {
     "end_time": "2017-11-09T12:14:01.020000Z",
     "start_time": "2017-11-09T12:14:01.003000Z"
    }
   },
   "source": [
    "### 提取历史借贷行为 "
   ]
  },
  {
   "cell_type": "code",
   "execution_count": 310,
   "metadata": {
    "ExecuteTime": {
     "end_time": "2017-11-12T13:49:22.703000Z",
     "start_time": "2017-11-12T13:49:22.664000Z"
    },
    "collapsed": true,
    "scrolled": true
   },
   "outputs": [],
   "source": [
    "def get_loan_feature(df):\n",
    "    loan_group=df.groupby('uid')\n",
    "    loan_feature=[]\n",
    "    cnt=0\n",
    "    for uid,group in loan_group:\n",
    "        cnt+=1\n",
    "        if cnt%10000==0:\n",
    "            print \"count total user:\",\"cnt\"\n",
    "        loan_feature_dict={}\n",
    "        group=group.reset_index()\n",
    "        loan_feature_dict['uid']=uid\n",
    "        loan_feature_dict['loan_count_3m']=len(group)\n",
    "        loan_feature_dict['loan_amout__3m']=group['loan_amount'].sum()\n",
    "        loan_gap=list(group['loan_gap'])\n",
    "        for day_diff in [7,14,21,28,35,42,49,56,63,70,90]:\n",
    "            loan_feature_dict['last_'+str(day_diff)+'_day_loan_count']=len([i for i in loan_gap if i <=day_diff])\n",
    "            loan_feature_dict['last_'+str(day_diff)+'_day_loan_amount']=sum([group.loc[loan_gap.index(i),'loan_amount'] for i in loan_gap if i<=day_diff])\n",
    "        loan_feature.append(loan_feature_dict)\n",
    "    return pd.DataFrame(loan_feature)"
   ]
  },
  {
   "cell_type": "markdown",
   "metadata": {
    "ExecuteTime": {
     "end_time": "2017-11-12T13:14:18.523000Z",
     "start_time": "2017-11-12T13:14:18.504000Z"
    }
   },
   "source": [
    "### merge feature"
   ]
  },
  {
   "cell_type": "markdown",
   "metadata": {
    "ExecuteTime": {
     "end_time": "2017-11-12T13:23:17.007000Z",
     "start_time": "2017-11-12T13:23:16.615000Z"
    },
    "collapsed": true
   },
   "source": [
    "#### 训练集特征"
   ]
  },
  {
   "cell_type": "code",
   "execution_count": null,
   "metadata": {
    "ExecuteTime": {
     "end_time": "2017-11-12T13:50:25.440000Z",
     "start_time": "2017-11-12T13:49:37.534000Z"
    }
   },
   "outputs": [],
   "source": [
    "train_order_feature=get_order_feature(train_order_df)\n",
    "train_loan_feature=get_loan_feature(train_loan_df)\n",
    "train_feature=pd.merge(user_df,train_order_feature,on='uid',how='left')\n",
    "train_feature=pd.merge(train_feature,train_loan_feature,on='uid',how='left')\n",
    "train_label=pd.merge(user_df,loan_sum_df,on='uid',how='left')\n",
    "train_label.fillna(0,inplace=True)\n",
    "train_label=train_label[['uid','loan_sum']]\n",
    "train_data=pd.merge(train_label,train_feature,on='uid',how='left')\n",
    "train_data.drop(['active_date'],axis=1,inplace=True)"
   ]
  },
  {
   "cell_type": "code",
   "execution_count": null,
   "metadata": {
    "ExecuteTime": {
     "end_time": "2017-11-12T14:15:40.026000Z",
     "start_time": "2017-11-12T14:11:08.580000Z"
    }
   },
   "outputs": [],
   "source": [
    "span_order_feature=get_order_feature(span_order_df)\n",
    "span_loan_feature=get_loan_feature(span_loan_df)\n",
    "span_feature=pd.merge(user_df,span_order_feature,on='uid',how='left')\n",
    "span_feature=pd.merge(span_feature,span_loan_feature,on='uid',how='left')\n",
    "span_feature.drop(['active_date'],axis=1,inplace=True)\n",
    "span_feature.shape\n",
    "span_data=span_feature"
   ]
  },
  {
   "cell_type": "code",
   "execution_count": 354,
   "metadata": {
    "ExecuteTime": {
     "end_time": "2017-11-12T14:20:29.869000Z",
     "start_time": "2017-11-12T14:20:29.812000Z"
    },
    "collapsed": true
   },
   "outputs": [],
   "source": [
    "used_features=list(train_data.columns)\n",
    "used_features.remove('uid')\n",
    "used_features.remove('loan_sum')\n",
    "train_df=train_data[used_features]\n",
    "train_target=train_data.loan_sum\n",
    "span_df=span_data[used_features]"
   ]
  },
  {
   "cell_type": "code",
   "execution_count": 379,
   "metadata": {
    "ExecuteTime": {
     "end_time": "2017-11-13T02:37:02.768000Z",
     "start_time": "2017-11-13T02:36:43.834000Z"
    }
   },
   "outputs": [
    {
     "name": "stdout",
     "output_type": "stream",
     "text": [
      "1.72452758135\n"
     ]
    }
   ],
   "source": [
    "dtrain=xgb.DMatrix(train_df,label=train_target)\n",
    "dspan=xgb.DMatrix(span_df)\n",
    "our_params={'eta':0.1,'seed':0,'subsample':0.8,'colsample_bytree':0.8,'objective':'reg:linear','max_depth':4,'min_child_weight':1}\n",
    "model=xgb.train(our_params,dtrain,400)\n",
    "train_predict=model.predict(dtrain)\n",
    "print calc_RMSE(list(train_target),list(train_predict))\n",
    "span_predict=model.predict(dspan)\n",
    "span_result=pd.DataFrame()\n",
    "span_result['uid']=span_data['uid']\n",
    "span_result['predict']=span_predict"
   ]
  },
  {
   "cell_type": "code",
   "execution_count": null,
   "metadata": {
    "ExecuteTime": {
     "end_time": "2017-11-13T02:37:06.965000Z",
     "start_time": "2017-11-13T02:37:06.917000Z"
    },
    "collapsed": true
   },
   "outputs": [],
   "source": []
  },
  {
   "cell_type": "code",
   "execution_count": 393,
   "metadata": {
    "ExecuteTime": {
     "end_time": "2017-11-13T02:56:09.967000Z",
     "start_time": "2017-11-13T02:56:09.707000Z"
    },
    "collapsed": true
   },
   "outputs": [],
   "source": [
    "span_result.to_csv('./result.csv',index=False)"
   ]
  },
  {
   "cell_type": "code",
   "execution_count": null,
   "metadata": {
    "ExecuteTime": {
     "end_time": "2017-11-13T02:52:53.550000Z",
     "start_time": "2017-11-13T02:52:53.535000Z"
    },
    "collapsed": true
   },
   "outputs": [],
   "source": []
  },
  {
   "cell_type": "code",
   "execution_count": null,
   "metadata": {
    "ExecuteTime": {
     "end_time": "2017-11-13T02:54:32.716000Z",
     "start_time": "2017-11-13T02:54:32.674000Z"
    },
    "collapsed": true
   },
   "outputs": [],
   "source": []
  },
  {
   "cell_type": "code",
   "execution_count": 319,
   "metadata": {
    "ExecuteTime": {
     "end_time": "2017-11-12T13:54:22.544000Z",
     "start_time": "2017-11-12T13:54:22.527000Z"
    },
    "collapsed": true
   },
   "outputs": [],
   "source": [
    "def calc_RMSE(true_y,predict_y):\n",
    "    n=len(true_y)\n",
    "    result=0\n",
    "    for i in range(n):\n",
    "        result+=pow((true_y[i]-predict_y[i]),2)\n",
    "    return math.sqrt(1.0*result/n)"
   ]
  },
  {
   "cell_type": "code",
   "execution_count": 365,
   "metadata": {
    "ExecuteTime": {
     "end_time": "2017-11-13T02:27:49.779000Z",
     "start_time": "2017-11-13T02:27:49.757000Z"
    },
    "collapsed": true
   },
   "outputs": [],
   "source": [
    "def ceate_feature_map(features):  \n",
    "    outfile = open('xgb.fmap', 'w')  \n",
    "    i = 0  \n",
    "    for feat in features:  \n",
    "        outfile.write('{0}\\t{1}\\tq\\n'.format(i, feat))  \n",
    "        i = i + 1  \n",
    "    outfile.close() "
   ]
  },
  {
   "cell_type": "code",
   "execution_count": 316,
   "metadata": {
    "ExecuteTime": {
     "end_time": "2017-11-12T13:54:07.604000Z",
     "start_time": "2017-11-12T13:54:07.595000Z"
    },
    "collapsed": true
   },
   "outputs": [],
   "source": []
  },
  {
   "cell_type": "code",
   "execution_count": 399,
   "metadata": {
    "ExecuteTime": {
     "end_time": "2017-11-13T06:24:38.741000Z",
     "start_time": "2017-11-13T06:24:38.151000Z"
    }
   },
   "outputs": [
    {
     "data": {
      "text/plain": [
       "<matplotlib.figure.Figure at 0x99fa26a0>"
      ]
     },
     "metadata": {},
     "output_type": "display_data"
    },
    {
     "data": {
      "image/png": "[encoded data removed]",
      "text/plain": [
       "<matplotlib.figure.Figure at 0x5a52f518>"
      ]
     },
     "metadata": {},
     "output_type": "display_data"
    }
   ],
   "source": [
    "ceate_feature_map(used_features)  \n",
    "\n",
    "importance = model.get_fscore(fmap='xgb.fmap')  \n",
    "importance = sorted(importance.items(), key=operator.itemgetter(1))  \n",
    "\n",
    "feature_importance_df = pd.DataFrame(importance, columns=['feature', 'fscore'])  \n",
    "feature_importance_df['fscore'] = feature_importance_df['fscore'] / feature_importance_df['fscore'].sum()\n",
    "plt.figure()\n",
    "feature_importance_df.plot(kind='barh', x='feature', y='fscore', legend=False, figsize=(6, 10))  \n",
    "plt.title('XGBoost Feature Importance')  \n",
    "plt.xlabel('relative importance')  \n",
    "plt.show()"
   ]
  },
  {
   "cell_type": "code",
   "execution_count": 370,
   "metadata": {
    "ExecuteTime": {
     "end_time": "2017-11-13T02:30:06.048000Z",
     "start_time": "2017-11-13T02:30:06.016000Z"
    },
    "collapsed": true
   },
   "outputs": [],
   "source": []
  },
  {
   "cell_type": "code",
   "execution_count": null,
   "metadata": {
    "ExecuteTime": {
     "end_time": "2017-11-13T07:17:42.496000Z",
     "start_time": "2017-11-13T07:17:42.477000Z"
    },
    "collapsed": true
   },
   "outputs": [],
   "source": []
  },
  {
   "cell_type": "code",
   "execution_count": null,
   "metadata": {
    "ExecuteTime": {
     "end_time": "2017-11-13T07:17:57.200000Z",
     "start_time": "2017-11-13T07:17:57.190000Z"
    },
    "collapsed": true
   },
   "outputs": [],
   "source": []
  },
  {
   "cell_type": "code",
   "execution_count": null,
   "metadata": {
    "ExecuteTime": {
     "end_time": "2017-11-13T07:18:02.938000Z",
     "start_time": "2017-11-13T07:18:02.924000Z"
    },
    "collapsed": true
   },
   "outputs": [],
   "source": []
  },
  {
   "cell_type": "code",
   "execution_count": null,
   "metadata": {
    "ExecuteTime": {
     "end_time": "2017-11-13T07:18:04.743000Z",
     "start_time": "2017-11-13T07:18:04.708000Z"
    },
    "collapsed": true
   },
   "outputs": [],
   "source": []
  },
  {
   "cell_type": "code",
   "execution_count": null,
   "metadata": {
    "collapsed": true
   },
   "outputs": [],
   "source": []
  }
 ],
 "metadata": {
  "kernelspec": {
   "display_name": "Python 2",
   "language": "python",
   "name": "python2"
  },
  "language_info": {
   "codemirror_mode": {
    "name": "ipython",
    "version": 2
   },
   "file_extension": ".py",
   "mimetype": "text/x-python",
   "name": "python",
   "nbconvert_exporter": "python",
   "pygments_lexer": "ipython2",
   "version": "2.7.13"
  },
  "toc": {
   "nav_menu": {},
   "number_sections": true,
   "sideBar": true,
   "skip_h1_title": false,
   "toc_cell": false,
   "toc_position": {
    "height": "402px",
    "left": "0px",
    "right": "880.8px",
    "top": "108px",
    "width": "212px"
   },
   "toc_section_display": "block",
   "toc_window_display": true
  }
 },
 "nbformat": 4,
 "nbformat_minor": 2
}
