{
 "cells": [
  {
   "cell_type": "code",
   "execution_count": 48,
   "metadata": {
    "ExecuteTime": {
     "end_time": "2017-11-09T10:54:28.998000Z",
     "start_time": "2017-11-09T10:54:28.989000Z"
    },
    "collapsed": true
   },
   "outputs": [],
   "source": [
    "import pandas as pd\n",
    "import os\n",
    "import matplotlib\n",
    "import itchat\n",
    "%matplotlib inline"
   ]
  },
  {
   "cell_type": "code",
   "execution_count": 51,
   "metadata": {
    "ExecuteTime": {
     "end_time": "2017-11-09T10:55:06.559000Z",
     "start_time": "2017-11-09T10:54:55.873000Z"
    }
   },
   "outputs": [
    {
     "name": "stderr",
     "output_type": "stream",
     "text": [
      "Getting uuid of QR code.\n",
      "Downloading QR code.\n",
      "Please scan the QR code to log in.\n",
      "Please press confirm on your phone.\n",
      "Loading the contact, this may take a little while.\n",
      "Login successfully as 邓卫东\n"
     ]
    }
   ],
   "source": [
    "itchat.auto_login()"
   ]
  },
  {
   "cell_type": "code",
   "execution_count": 54,
   "metadata": {
    "ExecuteTime": {
     "end_time": "2017-11-09T10:58:22.027000Z",
     "start_time": "2017-11-09T10:58:00.091000Z"
    }
   },
   "outputs": [
    {
     "name": "stderr",
     "output_type": "stream",
     "text": [
      "Start auto replying.\n",
      "Bye~\n"
     ]
    }
   ],
   "source": [
    "itchat.run()"
   ]
  },
  {
   "cell_type": "code",
   "execution_count": 8,
   "metadata": {
    "ExecuteTime": {
     "end_time": "2017-11-09T10:04:16.889000Z",
     "start_time": "2017-11-09T10:04:00.639000Z"
    },
    "collapsed": true
   },
   "outputs": [],
   "source": [
    "user_df=pd.read_csv('./data/t_user.csv')\n",
    "order_df=pd.read_csv('./data/t_order.csv')\n",
    "loan_df=pd.read_csv('./data/t_loan.csv')\n",
    "loan_sum_df=pd.read_csv('./data/t_loan_sum.csv')\n",
    "click_df=pd.read_csv('./data/t_click.csv')"
   ]
  },
  {
   "cell_type": "code",
   "execution_count": 288,
   "metadata": {
    "ExecuteTime": {
     "end_time": "2017-11-12T13:44:30.241000Z",
     "start_time": "2017-11-12T13:44:24.429000Z"
    },
    "collapsed": true
   },
   "outputs": [],
   "source": [
    "loan_dt=datetime.datetime.strptime('2016-11-01 00:00:00','%Y-%m-%d %H:%M:%S')\n",
    "loan_df['loan_gap']=loan_df['loan_time'].apply(lambda x: loan_dt- (datetime.datetime.strptime(x,'%Y-%m-%d %H:%M:%S')))\n",
    "loan_df['loan_gap']=loan_df['loan_gap'].apply(lambda x: x.days)"
   ]
  },
  {
   "cell_type": "markdown",
   "metadata": {},
   "source": [
    "### 划分样本集"
   ]
  },
  {
   "cell_type": "code",
   "execution_count": 293,
   "metadata": {
    "ExecuteTime": {
     "end_time": "2017-11-12T13:45:03.922000Z",
     "start_time": "2017-11-12T13:44:59.378000Z"
    }
   },
   "outputs": [],
   "source": [
    "train_time='2016-11-01'\n",
    "span_time='2016-09-01'\n",
    "train_order_df=order_df[order_df['buy_time']<train_time]\n",
    "train_click_df=click_df[click_df['click_time']<train_time]\n",
    "train_loan_df=loan_df[loan_df['loan_time']<train_time]\n",
    "span_order_df=order_df[order_df['buy_time']>=span_time]\n",
    "span_click_df=click_df[click_df['click_time']>=span_time]\n",
    "span_loan_df=loan_df[loan_df['loan_time']>=span_time]"
   ]
  },
  {
   "cell_type": "code",
   "execution_count": 294,
   "metadata": {
    "ExecuteTime": {
     "end_time": "2017-11-12T13:45:11.047000Z",
     "start_time": "2017-11-12T13:45:10.967000Z"
    },
    "collapsed": true
   },
   "outputs": [
    {
     "data": {
      "text/html": [
       "<div>\n",
       "<style>\n",
       "    .dataframe thead tr:only-child th {\n",
       "        text-align: right;\n",
       "    }\n",
       "\n",
       "    .dataframe thead th {\n",
       "        text-align: left;\n",
       "    }\n",
       "\n",
       "    .dataframe tbody tr th {\n",
       "        vertical-align: top;\n",
       "    }\n",
       "</style>\n",
       "<table border=\"1\" class=\"dataframe\">\n",
       "  <thead>\n",
       "    <tr style=\"text-align: right;\">\n",
       "      <th></th>\n",
       "      <th>uid</th>\n",
       "      <th>loan_time</th>\n",
       "      <th>loan_amount</th>\n",
       "      <th>plannum</th>\n",
       "      <th>loan_gap</th>\n",
       "    </tr>\n",
       "  </thead>\n",
       "  <tbody>\n",
       "    <tr>\n",
       "      <th>0</th>\n",
       "      <td>12135</td>\n",
       "      <td>2016-08-03 00:05:26</td>\n",
       "      <td>3.862595</td>\n",
       "      <td>1</td>\n",
       "      <td>89</td>\n",
       "    </tr>\n",
       "    <tr>\n",
       "      <th>1</th>\n",
       "      <td>41403</td>\n",
       "      <td>2016-08-03 00:13:25</td>\n",
       "      <td>5.584137</td>\n",
       "      <td>3</td>\n",
       "      <td>89</td>\n",
       "    </tr>\n",
       "    <tr>\n",
       "      <th>2</th>\n",
       "      <td>74458</td>\n",
       "      <td>2016-08-03 00:13:58</td>\n",
       "      <td>4.723017</td>\n",
       "      <td>1</td>\n",
       "      <td>89</td>\n",
       "    </tr>\n",
       "    <tr>\n",
       "      <th>3</th>\n",
       "      <td>12959</td>\n",
       "      <td>2016-08-03 00:19:33</td>\n",
       "      <td>3.862595</td>\n",
       "      <td>1</td>\n",
       "      <td>89</td>\n",
       "    </tr>\n",
       "    <tr>\n",
       "      <th>4</th>\n",
       "      <td>89641</td>\n",
       "      <td>2016-08-03 00:23:13</td>\n",
       "      <td>4.292651</td>\n",
       "      <td>1</td>\n",
       "      <td>89</td>\n",
       "    </tr>\n",
       "    <tr>\n",
       "      <th>5</th>\n",
       "      <td>3272</td>\n",
       "      <td>2016-08-03 00:24:32</td>\n",
       "      <td>3.862595</td>\n",
       "      <td>1</td>\n",
       "      <td>89</td>\n",
       "    </tr>\n",
       "    <tr>\n",
       "      <th>6</th>\n",
       "      <td>90639</td>\n",
       "      <td>2016-08-03 00:36:19</td>\n",
       "      <td>4.544373</td>\n",
       "      <td>1</td>\n",
       "      <td>89</td>\n",
       "    </tr>\n",
       "    <tr>\n",
       "      <th>7</th>\n",
       "      <td>66044</td>\n",
       "      <td>2016-08-03 00:50:20</td>\n",
       "      <td>4.622093</td>\n",
       "      <td>1</td>\n",
       "      <td>89</td>\n",
       "    </tr>\n",
       "    <tr>\n",
       "      <th>8</th>\n",
       "      <td>89641</td>\n",
       "      <td>2016-08-03 01:55:12</td>\n",
       "      <td>4.292651</td>\n",
       "      <td>1</td>\n",
       "      <td>89</td>\n",
       "    </tr>\n",
       "    <tr>\n",
       "      <th>9</th>\n",
       "      <td>41227</td>\n",
       "      <td>2016-08-03 02:26:52</td>\n",
       "      <td>5.070593</td>\n",
       "      <td>3</td>\n",
       "      <td>89</td>\n",
       "    </tr>\n",
       "    <tr>\n",
       "      <th>10</th>\n",
       "      <td>67319</td>\n",
       "      <td>2016-08-03 03:05:00</td>\n",
       "      <td>3.862595</td>\n",
       "      <td>1</td>\n",
       "      <td>89</td>\n",
       "    </tr>\n",
       "    <tr>\n",
       "      <th>11</th>\n",
       "      <td>76603</td>\n",
       "      <td>2016-08-03 03:12:57</td>\n",
       "      <td>4.723017</td>\n",
       "      <td>1</td>\n",
       "      <td>89</td>\n",
       "    </tr>\n",
       "    <tr>\n",
       "      <th>12</th>\n",
       "      <td>76603</td>\n",
       "      <td>2016-08-03 03:13:24</td>\n",
       "      <td>4.292651</td>\n",
       "      <td>1</td>\n",
       "      <td>89</td>\n",
       "    </tr>\n",
       "    <tr>\n",
       "      <th>13</th>\n",
       "      <td>76603</td>\n",
       "      <td>2016-08-03 03:13:42</td>\n",
       "      <td>4.405830</td>\n",
       "      <td>1</td>\n",
       "      <td>89</td>\n",
       "    </tr>\n",
       "    <tr>\n",
       "      <th>14</th>\n",
       "      <td>86428</td>\n",
       "      <td>2016-08-03 04:04:47</td>\n",
       "      <td>4.974843</td>\n",
       "      <td>3</td>\n",
       "      <td>89</td>\n",
       "    </tr>\n",
       "    <tr>\n",
       "      <th>15</th>\n",
       "      <td>84537</td>\n",
       "      <td>2016-08-03 04:12:03</td>\n",
       "      <td>3.862595</td>\n",
       "      <td>1</td>\n",
       "      <td>89</td>\n",
       "    </tr>\n",
       "    <tr>\n",
       "      <th>16</th>\n",
       "      <td>42635</td>\n",
       "      <td>2016-08-03 04:13:41</td>\n",
       "      <td>4.292651</td>\n",
       "      <td>1</td>\n",
       "      <td>89</td>\n",
       "    </tr>\n",
       "    <tr>\n",
       "      <th>17</th>\n",
       "      <td>32940</td>\n",
       "      <td>2016-08-03 04:45:15</td>\n",
       "      <td>4.292651</td>\n",
       "      <td>12</td>\n",
       "      <td>89</td>\n",
       "    </tr>\n",
       "    <tr>\n",
       "      <th>18</th>\n",
       "      <td>61669</td>\n",
       "      <td>2016-08-03 05:06:43</td>\n",
       "      <td>4.544373</td>\n",
       "      <td>3</td>\n",
       "      <td>89</td>\n",
       "    </tr>\n",
       "    <tr>\n",
       "      <th>19</th>\n",
       "      <td>53574</td>\n",
       "      <td>2016-08-03 05:47:37</td>\n",
       "      <td>5.153538</td>\n",
       "      <td>1</td>\n",
       "      <td>89</td>\n",
       "    </tr>\n",
       "    <tr>\n",
       "      <th>20</th>\n",
       "      <td>16120</td>\n",
       "      <td>2016-08-03 05:59:25</td>\n",
       "      <td>4.584448</td>\n",
       "      <td>1</td>\n",
       "      <td>89</td>\n",
       "    </tr>\n",
       "    <tr>\n",
       "      <th>21</th>\n",
       "      <td>72803</td>\n",
       "      <td>2016-08-03 06:18:01</td>\n",
       "      <td>4.292651</td>\n",
       "      <td>1</td>\n",
       "      <td>89</td>\n",
       "    </tr>\n",
       "    <tr>\n",
       "      <th>22</th>\n",
       "      <td>42528</td>\n",
       "      <td>2016-08-03 06:27:10</td>\n",
       "      <td>5.722768</td>\n",
       "      <td>1</td>\n",
       "      <td>89</td>\n",
       "    </tr>\n",
       "    <tr>\n",
       "      <th>23</th>\n",
       "      <td>80684</td>\n",
       "      <td>2016-08-03 07:06:09</td>\n",
       "      <td>4.292651</td>\n",
       "      <td>1</td>\n",
       "      <td>89</td>\n",
       "    </tr>\n",
       "    <tr>\n",
       "      <th>24</th>\n",
       "      <td>57009</td>\n",
       "      <td>2016-08-03 07:08:49</td>\n",
       "      <td>5.070593</td>\n",
       "      <td>1</td>\n",
       "      <td>89</td>\n",
       "    </tr>\n",
       "    <tr>\n",
       "      <th>25</th>\n",
       "      <td>67212</td>\n",
       "      <td>2016-08-03 07:13:15</td>\n",
       "      <td>4.909402</td>\n",
       "      <td>12</td>\n",
       "      <td>89</td>\n",
       "    </tr>\n",
       "    <tr>\n",
       "      <th>26</th>\n",
       "      <td>69653</td>\n",
       "      <td>2016-08-03 07:25:15</td>\n",
       "      <td>5.722768</td>\n",
       "      <td>12</td>\n",
       "      <td>89</td>\n",
       "    </tr>\n",
       "    <tr>\n",
       "      <th>27</th>\n",
       "      <td>13939</td>\n",
       "      <td>2016-08-03 07:25:47</td>\n",
       "      <td>6.722719</td>\n",
       "      <td>12</td>\n",
       "      <td>89</td>\n",
       "    </tr>\n",
       "    <tr>\n",
       "      <th>28</th>\n",
       "      <td>48003</td>\n",
       "      <td>2016-08-03 07:36:06</td>\n",
       "      <td>6.153414</td>\n",
       "      <td>12</td>\n",
       "      <td>89</td>\n",
       "    </tr>\n",
       "    <tr>\n",
       "      <th>29</th>\n",
       "      <td>21173</td>\n",
       "      <td>2016-08-03 07:36:34</td>\n",
       "      <td>4.974843</td>\n",
       "      <td>12</td>\n",
       "      <td>89</td>\n",
       "    </tr>\n",
       "    <tr>\n",
       "      <th>...</th>\n",
       "      <td>...</td>\n",
       "      <td>...</td>\n",
       "      <td>...</td>\n",
       "      <td>...</td>\n",
       "      <td>...</td>\n",
       "    </tr>\n",
       "    <tr>\n",
       "      <th>194864</th>\n",
       "      <td>85752</td>\n",
       "      <td>2016-10-31 18:29:43</td>\n",
       "      <td>5.014930</td>\n",
       "      <td>12</td>\n",
       "      <td>0</td>\n",
       "    </tr>\n",
       "    <tr>\n",
       "      <th>194865</th>\n",
       "      <td>3775</td>\n",
       "      <td>2016-10-31 18:36:54</td>\n",
       "      <td>4.723017</td>\n",
       "      <td>12</td>\n",
       "      <td>0</td>\n",
       "    </tr>\n",
       "    <tr>\n",
       "      <th>194866</th>\n",
       "      <td>57925</td>\n",
       "      <td>2016-10-31 19:07:38</td>\n",
       "      <td>4.723017</td>\n",
       "      <td>1</td>\n",
       "      <td>0</td>\n",
       "    </tr>\n",
       "    <tr>\n",
       "      <th>194867</th>\n",
       "      <td>86811</td>\n",
       "      <td>2016-10-31 19:31:06</td>\n",
       "      <td>4.292651</td>\n",
       "      <td>6</td>\n",
       "      <td>0</td>\n",
       "    </tr>\n",
       "    <tr>\n",
       "      <th>194868</th>\n",
       "      <td>78880</td>\n",
       "      <td>2016-10-31 19:34:28</td>\n",
       "      <td>4.292651</td>\n",
       "      <td>6</td>\n",
       "      <td>0</td>\n",
       "    </tr>\n",
       "    <tr>\n",
       "      <th>194869</th>\n",
       "      <td>65831</td>\n",
       "      <td>2016-10-31 19:50:25</td>\n",
       "      <td>4.292651</td>\n",
       "      <td>1</td>\n",
       "      <td>0</td>\n",
       "    </tr>\n",
       "    <tr>\n",
       "      <th>194870</th>\n",
       "      <td>46980</td>\n",
       "      <td>2016-10-31 19:54:49</td>\n",
       "      <td>4.723017</td>\n",
       "      <td>6</td>\n",
       "      <td>0</td>\n",
       "    </tr>\n",
       "    <tr>\n",
       "      <th>194871</th>\n",
       "      <td>72470</td>\n",
       "      <td>2016-10-31 19:59:57</td>\n",
       "      <td>4.292651</td>\n",
       "      <td>6</td>\n",
       "      <td>0</td>\n",
       "    </tr>\n",
       "    <tr>\n",
       "      <th>194872</th>\n",
       "      <td>57214</td>\n",
       "      <td>2016-10-31 20:37:51</td>\n",
       "      <td>3.862595</td>\n",
       "      <td>1</td>\n",
       "      <td>0</td>\n",
       "    </tr>\n",
       "    <tr>\n",
       "      <th>194873</th>\n",
       "      <td>84863</td>\n",
       "      <td>2016-10-31 20:35:43</td>\n",
       "      <td>3.862595</td>\n",
       "      <td>12</td>\n",
       "      <td>0</td>\n",
       "    </tr>\n",
       "    <tr>\n",
       "      <th>194874</th>\n",
       "      <td>33567</td>\n",
       "      <td>2016-10-31 20:44:25</td>\n",
       "      <td>6.292055</td>\n",
       "      <td>12</td>\n",
       "      <td>0</td>\n",
       "    </tr>\n",
       "    <tr>\n",
       "      <th>194875</th>\n",
       "      <td>84863</td>\n",
       "      <td>2016-10-31 20:50:48</td>\n",
       "      <td>3.862595</td>\n",
       "      <td>12</td>\n",
       "      <td>0</td>\n",
       "    </tr>\n",
       "    <tr>\n",
       "      <th>194876</th>\n",
       "      <td>77892</td>\n",
       "      <td>2016-10-31 20:52:37</td>\n",
       "      <td>5.226704</td>\n",
       "      <td>6</td>\n",
       "      <td>0</td>\n",
       "    </tr>\n",
       "    <tr>\n",
       "      <th>194877</th>\n",
       "      <td>90639</td>\n",
       "      <td>2016-10-31 20:53:15</td>\n",
       "      <td>4.723017</td>\n",
       "      <td>1</td>\n",
       "      <td>0</td>\n",
       "    </tr>\n",
       "    <tr>\n",
       "      <th>194878</th>\n",
       "      <td>57684</td>\n",
       "      <td>2016-10-31 21:10:33</td>\n",
       "      <td>5.153538</td>\n",
       "      <td>3</td>\n",
       "      <td>0</td>\n",
       "    </tr>\n",
       "    <tr>\n",
       "      <th>194879</th>\n",
       "      <td>32989</td>\n",
       "      <td>2016-10-31 21:30:00</td>\n",
       "      <td>4.292651</td>\n",
       "      <td>12</td>\n",
       "      <td>0</td>\n",
       "    </tr>\n",
       "    <tr>\n",
       "      <th>194880</th>\n",
       "      <td>64579</td>\n",
       "      <td>2016-10-31 21:39:57</td>\n",
       "      <td>4.723017</td>\n",
       "      <td>1</td>\n",
       "      <td>0</td>\n",
       "    </tr>\n",
       "    <tr>\n",
       "      <th>194881</th>\n",
       "      <td>22348</td>\n",
       "      <td>2016-10-31 21:42:37</td>\n",
       "      <td>4.544373</td>\n",
       "      <td>6</td>\n",
       "      <td>0</td>\n",
       "    </tr>\n",
       "    <tr>\n",
       "      <th>194882</th>\n",
       "      <td>15952</td>\n",
       "      <td>2016-10-31 21:44:54</td>\n",
       "      <td>5.292154</td>\n",
       "      <td>1</td>\n",
       "      <td>0</td>\n",
       "    </tr>\n",
       "    <tr>\n",
       "      <th>194883</th>\n",
       "      <td>89863</td>\n",
       "      <td>2016-10-31 21:48:33</td>\n",
       "      <td>4.723017</td>\n",
       "      <td>1</td>\n",
       "      <td>0</td>\n",
       "    </tr>\n",
       "    <tr>\n",
       "      <th>194884</th>\n",
       "      <td>3527</td>\n",
       "      <td>2016-10-31 21:53:41</td>\n",
       "      <td>4.723017</td>\n",
       "      <td>1</td>\n",
       "      <td>0</td>\n",
       "    </tr>\n",
       "    <tr>\n",
       "      <th>194885</th>\n",
       "      <td>87751</td>\n",
       "      <td>2016-10-31 21:55:52</td>\n",
       "      <td>4.861602</td>\n",
       "      <td>6</td>\n",
       "      <td>0</td>\n",
       "    </tr>\n",
       "    <tr>\n",
       "      <th>194886</th>\n",
       "      <td>75007</td>\n",
       "      <td>2016-10-31 21:57:17</td>\n",
       "      <td>3.862595</td>\n",
       "      <td>1</td>\n",
       "      <td>0</td>\n",
       "    </tr>\n",
       "    <tr>\n",
       "      <th>194887</th>\n",
       "      <td>5761</td>\n",
       "      <td>2016-10-31 22:03:54</td>\n",
       "      <td>4.292651</td>\n",
       "      <td>1</td>\n",
       "      <td>0</td>\n",
       "    </tr>\n",
       "    <tr>\n",
       "      <th>194888</th>\n",
       "      <td>41668</td>\n",
       "      <td>2016-10-31 22:13:12</td>\n",
       "      <td>4.292651</td>\n",
       "      <td>1</td>\n",
       "      <td>0</td>\n",
       "    </tr>\n",
       "    <tr>\n",
       "      <th>194889</th>\n",
       "      <td>77840</td>\n",
       "      <td>2016-10-31 22:37:54</td>\n",
       "      <td>5.722768</td>\n",
       "      <td>6</td>\n",
       "      <td>0</td>\n",
       "    </tr>\n",
       "    <tr>\n",
       "      <th>194890</th>\n",
       "      <td>64308</td>\n",
       "      <td>2016-10-31 22:46:48</td>\n",
       "      <td>6.014775</td>\n",
       "      <td>1</td>\n",
       "      <td>0</td>\n",
       "    </tr>\n",
       "    <tr>\n",
       "      <th>194891</th>\n",
       "      <td>43725</td>\n",
       "      <td>2016-10-31 23:04:30</td>\n",
       "      <td>4.292651</td>\n",
       "      <td>1</td>\n",
       "      <td>0</td>\n",
       "    </tr>\n",
       "    <tr>\n",
       "      <th>194892</th>\n",
       "      <td>49939</td>\n",
       "      <td>2016-10-31 23:22:46</td>\n",
       "      <td>6.052441</td>\n",
       "      <td>1</td>\n",
       "      <td>0</td>\n",
       "    </tr>\n",
       "    <tr>\n",
       "      <th>194893</th>\n",
       "      <td>67942</td>\n",
       "      <td>2016-10-31 23:16:35</td>\n",
       "      <td>5.657311</td>\n",
       "      <td>12</td>\n",
       "      <td>0</td>\n",
       "    </tr>\n",
       "  </tbody>\n",
       "</table>\n",
       "<p>155047 rows × 5 columns</p>\n",
       "</div>"
      ],
      "text/plain": [
       "          uid            loan_time  loan_amount  plannum  loan_gap\n",
       "0       12135  2016-08-03 00:05:26     3.862595        1        89\n",
       "1       41403  2016-08-03 00:13:25     5.584137        3        89\n",
       "2       74458  2016-08-03 00:13:58     4.723017        1        89\n",
       "3       12959  2016-08-03 00:19:33     3.862595        1        89\n",
       "4       89641  2016-08-03 00:23:13     4.292651        1        89\n",
       "5        3272  2016-08-03 00:24:32     3.862595        1        89\n",
       "6       90639  2016-08-03 00:36:19     4.544373        1        89\n",
       "7       66044  2016-08-03 00:50:20     4.622093        1        89\n",
       "8       89641  2016-08-03 01:55:12     4.292651        1        89\n",
       "9       41227  2016-08-03 02:26:52     5.070593        3        89\n",
       "10      67319  2016-08-03 03:05:00     3.862595        1        89\n",
       "11      76603  2016-08-03 03:12:57     4.723017        1        89\n",
       "12      76603  2016-08-03 03:13:24     4.292651        1        89\n",
       "13      76603  2016-08-03 03:13:42     4.405830        1        89\n",
       "14      86428  2016-08-03 04:04:47     4.974843        3        89\n",
       "15      84537  2016-08-03 04:12:03     3.862595        1        89\n",
       "16      42635  2016-08-03 04:13:41     4.292651        1        89\n",
       "17      32940  2016-08-03 04:45:15     4.292651       12        89\n",
       "18      61669  2016-08-03 05:06:43     4.544373        3        89\n",
       "19      53574  2016-08-03 05:47:37     5.153538        1        89\n",
       "20      16120  2016-08-03 05:59:25     4.584448        1        89\n",
       "21      72803  2016-08-03 06:18:01     4.292651        1        89\n",
       "22      42528  2016-08-03 06:27:10     5.722768        1        89\n",
       "23      80684  2016-08-03 07:06:09     4.292651        1        89\n",
       "24      57009  2016-08-03 07:08:49     5.070593        1        89\n",
       "25      67212  2016-08-03 07:13:15     4.909402       12        89\n",
       "26      69653  2016-08-03 07:25:15     5.722768       12        89\n",
       "27      13939  2016-08-03 07:25:47     6.722719       12        89\n",
       "28      48003  2016-08-03 07:36:06     6.153414       12        89\n",
       "29      21173  2016-08-03 07:36:34     4.974843       12        89\n",
       "...       ...                  ...          ...      ...       ...\n",
       "194864  85752  2016-10-31 18:29:43     5.014930       12         0\n",
       "194865   3775  2016-10-31 18:36:54     4.723017       12         0\n",
       "194866  57925  2016-10-31 19:07:38     4.723017        1         0\n",
       "194867  86811  2016-10-31 19:31:06     4.292651        6         0\n",
       "194868  78880  2016-10-31 19:34:28     4.292651        6         0\n",
       "194869  65831  2016-10-31 19:50:25     4.292651        1         0\n",
       "194870  46980  2016-10-31 19:54:49     4.723017        6         0\n",
       "194871  72470  2016-10-31 19:59:57     4.292651        6         0\n",
       "194872  57214  2016-10-31 20:37:51     3.862595        1         0\n",
       "194873  84863  2016-10-31 20:35:43     3.862595       12         0\n",
       "194874  33567  2016-10-31 20:44:25     6.292055       12         0\n",
       "194875  84863  2016-10-31 20:50:48     3.862595       12         0\n",
       "194876  77892  2016-10-31 20:52:37     5.226704        6         0\n",
       "194877  90639  2016-10-31 20:53:15     4.723017        1         0\n",
       "194878  57684  2016-10-31 21:10:33     5.153538        3         0\n",
       "194879  32989  2016-10-31 21:30:00     4.292651       12         0\n",
       "194880  64579  2016-10-31 21:39:57     4.723017        1         0\n",
       "194881  22348  2016-10-31 21:42:37     4.544373        6         0\n",
       "194882  15952  2016-10-31 21:44:54     5.292154        1         0\n",
       "194883  89863  2016-10-31 21:48:33     4.723017        1         0\n",
       "194884   3527  2016-10-31 21:53:41     4.723017        1         0\n",
       "194885  87751  2016-10-31 21:55:52     4.861602        6         0\n",
       "194886  75007  2016-10-31 21:57:17     3.862595        1         0\n",
       "194887   5761  2016-10-31 22:03:54     4.292651        1         0\n",
       "194888  41668  2016-10-31 22:13:12     4.292651        1         0\n",
       "194889  77840  2016-10-31 22:37:54     5.722768        6         0\n",
       "194890  64308  2016-10-31 22:46:48     6.014775        1         0\n",
       "194891  43725  2016-10-31 23:04:30     4.292651        1         0\n",
       "194892  49939  2016-10-31 23:22:46     6.052441        1         0\n",
       "194893  67942  2016-10-31 23:16:35     5.657311       12         0\n",
       "\n",
       "[155047 rows x 5 columns]"
      ]
     },
     "execution_count": 294,
     "metadata": {},
     "output_type": "execute_result"
    }
   ],
   "source": [
    "train_loan_df"
   ]
  },
  {
   "cell_type": "markdown",
   "metadata": {
    "ExecuteTime": {
     "end_time": "2017-11-09T10:42:58.490000Z",
     "start_time": "2017-11-09T10:42:58.421000Z"
    }
   },
   "source": [
    "### 获取用户订单信息"
   ]
  },
  {
   "cell_type": "code",
   "execution_count": null,
   "metadata": {
    "ExecuteTime": {
     "end_time": "2017-11-11T03:20:47.106000Z",
     "start_time": "2017-11-11T03:20:47.092000Z"
    },
    "collapsed": true
   },
   "outputs": [],
   "source": []
  },
  {
   "cell_type": "code",
   "execution_count": null,
   "metadata": {
    "ExecuteTime": {
     "end_time": "2017-11-09T13:07:00.396000Z",
     "start_time": "2017-11-09T13:07:00.387000Z"
    },
    "collapsed": true
   },
   "outputs": [],
   "source": []
  },
  {
   "cell_type": "markdown",
   "metadata": {
    "ExecuteTime": {
     "end_time": "2017-11-09T13:07:56.124000Z",
     "start_time": "2017-11-09T13:07:56.109000Z"
    }
   },
   "source": []
  },
  {
   "cell_type": "code",
   "execution_count": 259,
   "metadata": {
    "ExecuteTime": {
     "end_time": "2017-11-12T13:28:47.774000Z",
     "start_time": "2017-11-12T13:28:47.749000Z"
    },
    "collapsed": true
   },
   "outputs": [],
   "source": [
    "def get_order_feature(df):\n",
    "    order_group=df.groupby('uid')\n",
    "    order_feature=[]\n",
    "    for uid,group in order_group:\n",
    "        group=group.reset_index()\n",
    "        order_feature_dict={}\n",
    "        order_feature_dict['uid']=uid\n",
    "        order_feature_dict['total_order']=len(group)\n",
    "        order_feature_dict['unique_cate_count']=len(group['cate_id'].unique())\n",
    "        order_feature_dict['max_qty']=group['qty'].max()\n",
    "        order_feature_dict['max_price']=group['price'].max()\n",
    "        order_feature_dict['max_discount']=group['discount'].max()\n",
    "        total_price=0\n",
    "        for i in range(len(group)):\n",
    "            total_price+=group.loc[i,'qty']*group.loc[i,'price']\n",
    "        order_feature_dict['total_price']=total_price\n",
    "        order_feature.append(order_feature_dict)\n",
    "    order_feature_df=pd.DataFrame(order_feature)\n",
    "    return order_feature_df"
   ]
  },
  {
   "cell_type": "code",
   "execution_count": 175,
   "metadata": {
    "ExecuteTime": {
     "end_time": "2017-11-11T03:26:03.584000Z",
     "start_time": "2017-11-11T03:26:03.152000Z"
    },
    "collapsed": true
   },
   "outputs": [],
   "source": [
    "order_feature_df.to_csv('./feature/order_feature.csv',index=False)"
   ]
  },
  {
   "cell_type": "code",
   "execution_count": 180,
   "metadata": {
    "ExecuteTime": {
     "end_time": "2017-11-11T03:29:38.526000Z",
     "start_time": "2017-11-11T03:29:38.088000Z"
    },
    "collapsed": true
   },
   "outputs": [],
   "source": []
  },
  {
   "cell_type": "code",
   "execution_count": null,
   "metadata": {
    "ExecuteTime": {
     "end_time": "2017-11-11T03:28:10.700000Z",
     "start_time": "2017-11-11T03:28:10.687000Z"
    },
    "collapsed": true
   },
   "outputs": [],
   "source": []
  },
  {
   "cell_type": "code",
   "execution_count": null,
   "metadata": {
    "ExecuteTime": {
     "end_time": "2017-11-11T03:28:46.037000Z",
     "start_time": "2017-11-11T03:28:46.018000Z"
    },
    "collapsed": true
   },
   "outputs": [],
   "source": []
  },
  {
   "cell_type": "markdown",
   "metadata": {
    "ExecuteTime": {
     "end_time": "2017-11-09T12:14:01.020000Z",
     "start_time": "2017-11-09T12:14:01.003000Z"
    }
   },
   "source": [
    "### 提取历史借贷行为 "
   ]
  },
  {
   "cell_type": "code",
   "execution_count": 251,
   "metadata": {
    "ExecuteTime": {
     "end_time": "2017-11-12T13:20:31.791000Z",
     "start_time": "2017-11-12T13:20:25.937000Z"
    },
    "collapsed": true
   },
   "outputs": [],
   "source": []
  },
  {
   "cell_type": "code",
   "execution_count": 252,
   "metadata": {
    "ExecuteTime": {
     "end_time": "2017-11-12T13:20:33.794000Z",
     "start_time": "2017-11-12T13:20:33.770000Z"
    },
    "collapsed": true
   },
   "outputs": [],
   "source": [
    "loan_group=loan_df.groupby('uid')"
   ]
  },
  {
   "cell_type": "code",
   "execution_count": 310,
   "metadata": {
    "ExecuteTime": {
     "end_time": "2017-11-12T13:49:22.703000Z",
     "start_time": "2017-11-12T13:49:22.664000Z"
    },
    "scrolled": true
   },
   "outputs": [],
   "source": [
    "def get_loan_feature(df):\n",
    "    loan_group=df.groupby('uid')\n",
    "    loan_feature=[]\n",
    "    cnt=0\n",
    "    for uid,group in loan_group:\n",
    "        cnt+=1\n",
    "        if cnt%10000==0:\n",
    "            print \"count total user:\",\"cnt\"\n",
    "        loan_feature_dict={}\n",
    "        group=group.reset_index()\n",
    "        loan_feature_dict['uid']=uid\n",
    "        loan_feature_dict['loan_count_3m']=len(group)\n",
    "        loan_feature_dict['loan_amout__3m']=group['loan_amount'].sum()\n",
    "        loan_gap=list(group['loan_gap'])\n",
    "        for day_diff in [7,14,21,28,35,42,49,56,63,70,90]:\n",
    "            loan_feature_dict['last_'+str(day_diff)+'_day_loan_count']=len([i for i in loan_gap if i <=day_diff])\n",
    "            loan_feature_dict['last_'+str(day_diff)+'_day_loan_amount']=sum([group.loc[loan_gap.index(i),'loan_amount'] for i in loan_gap if i<=day_diff])\n",
    "        loan_feature.append(loan_feature_dict)\n",
    "    return pd.DataFrame(loan_feature)"
   ]
  },
  {
   "cell_type": "code",
   "execution_count": 258,
   "metadata": {
    "ExecuteTime": {
     "end_time": "2017-11-12T13:26:38.434000Z",
     "start_time": "2017-11-12T13:26:37.980000Z"
    }
   },
   "outputs": [],
   "source": [
    "loan_feature_df=pd.DataFrame(loan_feature)"
   ]
  },
  {
   "cell_type": "markdown",
   "metadata": {
    "ExecuteTime": {
     "end_time": "2017-11-12T13:14:18.523000Z",
     "start_time": "2017-11-12T13:14:18.504000Z"
    }
   },
   "source": [
    "### merge feature"
   ]
  },
  {
   "cell_type": "markdown",
   "metadata": {
    "ExecuteTime": {
     "end_time": "2017-11-12T13:23:17.007000Z",
     "start_time": "2017-11-12T13:23:16.615000Z"
    },
    "collapsed": true
   },
   "source": [
    "#### 训练集特征"
   ]
  },
  {
   "cell_type": "code",
   "execution_count": 263,
   "metadata": {
    "ExecuteTime": {
     "end_time": "2017-11-12T13:36:35.131000Z",
     "start_time": "2017-11-12T13:32:38.409000Z"
    },
    "collapsed": true
   },
   "outputs": [],
   "source": []
  },
  {
   "cell_type": "code",
   "execution_count": 311,
   "metadata": {
    "ExecuteTime": {
     "end_time": "2017-11-12T13:50:25.440000Z",
     "start_time": "2017-11-12T13:49:37.534000Z"
    }
   },
   "outputs": [
    {
     "name": "stdout",
     "output_type": "stream",
     "text": [
      "(155047, 5)\n",
      "33190\n",
      "count total user: cnt\n",
      "count total user: cnt\n",
      "count total user: cnt\n"
     ]
    }
   ],
   "source": [
    "train_order_feature=get_order_feature(train_order_df)\n",
    "train_loan_feature=get_loan_feature(train_loan_df)\n",
    "train_feature=pd.merge(user_df,train_order_feature,on='uid',how='left')\n",
    "train_feature=pd.merge(train_feature,train_loan_feature,on='uid',how='left')\n",
    "train_label=pd.merge(user_df,loan_sum_df,on='uid',how='left')\n",
    "train_label.fillna(0,inplace=True)\n",
    "train_label=train_label[['uid','loan_sum']]\n",
    "train_data=pd.merge(train_label,train_feature,on='uid',how='left')\n",
    "train_data.drop(['active_date'],axis=1,inplace=True)"
   ]
  },
  {
   "cell_type": "code",
   "execution_count": 344,
   "metadata": {
    "ExecuteTime": {
     "end_time": "2017-11-12T14:15:40.026000Z",
     "start_time": "2017-11-12T14:11:08.580000Z"
    },
    "collapsed": true
   },
   "outputs": [
    {
     "name": "stdout",
     "output_type": "stream",
     "text": [
      "(154852, 5)\n",
      "33766\n",
      "count total user: cnt\n",
      "count total user: cnt\n",
      "count total user: cnt\n"
     ]
    },
    {
     "ename": "ValueError",
     "evalue": "labels ['active_date'] not contained in axis",
     "output_type": "error",
     "traceback": [
      "\u001b[1;31m---------------------------------------------------------------------------\u001b[0m",
      "\u001b[1;31mValueError\u001b[0m                                Traceback (most recent call last)",
      "\u001b[1;32m<ipython-input-344-b01b23ab15e5>\u001b[0m in \u001b[0;36m<module>\u001b[1;34m()\u001b[0m\n\u001b[0;32m      4\u001b[0m \u001b[0mspan_feature\u001b[0m\u001b[1;33m=\u001b[0m\u001b[0mpd\u001b[0m\u001b[1;33m.\u001b[0m\u001b[0mmerge\u001b[0m\u001b[1;33m(\u001b[0m\u001b[0mspan_feature\u001b[0m\u001b[1;33m,\u001b[0m\u001b[0mspan_loan_feature\u001b[0m\u001b[1;33m,\u001b[0m\u001b[0mon\u001b[0m\u001b[1;33m=\u001b[0m\u001b[1;34m'uid'\u001b[0m\u001b[1;33m,\u001b[0m\u001b[0mhow\u001b[0m\u001b[1;33m=\u001b[0m\u001b[1;34m'left'\u001b[0m\u001b[1;33m)\u001b[0m\u001b[1;33m\u001b[0m\u001b[0m\n\u001b[0;32m      5\u001b[0m \u001b[0mspan_data\u001b[0m\u001b[1;33m=\u001b[0m\u001b[0mpd\u001b[0m\u001b[1;33m.\u001b[0m\u001b[0mmerge\u001b[0m\u001b[1;33m(\u001b[0m\u001b[0muser_df\u001b[0m\u001b[1;33m,\u001b[0m\u001b[0mspan_feature\u001b[0m\u001b[1;33m,\u001b[0m\u001b[0mon\u001b[0m\u001b[1;33m=\u001b[0m\u001b[1;34m'uid'\u001b[0m\u001b[1;33m,\u001b[0m\u001b[0mhow\u001b[0m\u001b[1;33m=\u001b[0m\u001b[1;34m'left'\u001b[0m\u001b[1;33m)\u001b[0m\u001b[1;33m\u001b[0m\u001b[0m\n\u001b[1;32m----> 6\u001b[1;33m \u001b[0mspan_data\u001b[0m\u001b[1;33m.\u001b[0m\u001b[0mdrop\u001b[0m\u001b[1;33m(\u001b[0m\u001b[1;33m[\u001b[0m\u001b[1;34m'active_date'\u001b[0m\u001b[1;33m]\u001b[0m\u001b[1;33m,\u001b[0m\u001b[0maxis\u001b[0m\u001b[1;33m=\u001b[0m\u001b[1;36m1\u001b[0m\u001b[1;33m,\u001b[0m\u001b[0minplace\u001b[0m\u001b[1;33m=\u001b[0m\u001b[0mTrue\u001b[0m\u001b[1;33m)\u001b[0m\u001b[1;33m\u001b[0m\u001b[0m\n\u001b[0m",
      "\u001b[1;32mD:\\Anaconda\\lib\\site-packages\\pandas\\core\\generic.pyc\u001b[0m in \u001b[0;36mdrop\u001b[1;34m(self, labels, axis, level, inplace, errors)\u001b[0m\n\u001b[0;32m   2048\u001b[0m                 \u001b[0mnew_axis\u001b[0m \u001b[1;33m=\u001b[0m \u001b[0maxis\u001b[0m\u001b[1;33m.\u001b[0m\u001b[0mdrop\u001b[0m\u001b[1;33m(\u001b[0m\u001b[0mlabels\u001b[0m\u001b[1;33m,\u001b[0m \u001b[0mlevel\u001b[0m\u001b[1;33m=\u001b[0m\u001b[0mlevel\u001b[0m\u001b[1;33m,\u001b[0m \u001b[0merrors\u001b[0m\u001b[1;33m=\u001b[0m\u001b[0merrors\u001b[0m\u001b[1;33m)\u001b[0m\u001b[1;33m\u001b[0m\u001b[0m\n\u001b[0;32m   2049\u001b[0m             \u001b[1;32melse\u001b[0m\u001b[1;33m:\u001b[0m\u001b[1;33m\u001b[0m\u001b[0m\n\u001b[1;32m-> 2050\u001b[1;33m                 \u001b[0mnew_axis\u001b[0m \u001b[1;33m=\u001b[0m \u001b[0maxis\u001b[0m\u001b[1;33m.\u001b[0m\u001b[0mdrop\u001b[0m\u001b[1;33m(\u001b[0m\u001b[0mlabels\u001b[0m\u001b[1;33m,\u001b[0m \u001b[0merrors\u001b[0m\u001b[1;33m=\u001b[0m\u001b[0merrors\u001b[0m\u001b[1;33m)\u001b[0m\u001b[1;33m\u001b[0m\u001b[0m\n\u001b[0m\u001b[0;32m   2051\u001b[0m             \u001b[0mdropped\u001b[0m \u001b[1;33m=\u001b[0m \u001b[0mself\u001b[0m\u001b[1;33m.\u001b[0m\u001b[0mreindex\u001b[0m\u001b[1;33m(\u001b[0m\u001b[1;33m**\u001b[0m\u001b[1;33m{\u001b[0m\u001b[0maxis_name\u001b[0m\u001b[1;33m:\u001b[0m \u001b[0mnew_axis\u001b[0m\u001b[1;33m}\u001b[0m\u001b[1;33m)\u001b[0m\u001b[1;33m\u001b[0m\u001b[0m\n\u001b[0;32m   2052\u001b[0m             \u001b[1;32mtry\u001b[0m\u001b[1;33m:\u001b[0m\u001b[1;33m\u001b[0m\u001b[0m\n",
      "\u001b[1;32mD:\\Anaconda\\lib\\site-packages\\pandas\\core\\indexes\\base.pyc\u001b[0m in \u001b[0;36mdrop\u001b[1;34m(self, labels, errors)\u001b[0m\n\u001b[0;32m   3573\u001b[0m             \u001b[1;32mif\u001b[0m \u001b[0merrors\u001b[0m \u001b[1;33m!=\u001b[0m \u001b[1;34m'ignore'\u001b[0m\u001b[1;33m:\u001b[0m\u001b[1;33m\u001b[0m\u001b[0m\n\u001b[0;32m   3574\u001b[0m                 raise ValueError('labels %s not contained in axis' %\n\u001b[1;32m-> 3575\u001b[1;33m                                  labels[mask])\n\u001b[0m\u001b[0;32m   3576\u001b[0m             \u001b[0mindexer\u001b[0m \u001b[1;33m=\u001b[0m \u001b[0mindexer\u001b[0m\u001b[1;33m[\u001b[0m\u001b[1;33m~\u001b[0m\u001b[0mmask\u001b[0m\u001b[1;33m]\u001b[0m\u001b[1;33m\u001b[0m\u001b[0m\n\u001b[0;32m   3577\u001b[0m         \u001b[1;32mreturn\u001b[0m \u001b[0mself\u001b[0m\u001b[1;33m.\u001b[0m\u001b[0mdelete\u001b[0m\u001b[1;33m(\u001b[0m\u001b[0mindexer\u001b[0m\u001b[1;33m)\u001b[0m\u001b[1;33m\u001b[0m\u001b[0m\n",
      "\u001b[1;31mValueError\u001b[0m: labels ['active_date'] not contained in axis"
     ]
    }
   ],
   "source": [
    "span_order_feature=get_order_feature(span_order_df)\n",
    "span_loan_feature=get_loan_feature(span_loan_df)\n"
   ]
  },
  {
   "cell_type": "code",
   "execution_count": 348,
   "metadata": {
    "ExecuteTime": {
     "end_time": "2017-11-12T14:19:14.423000Z",
     "start_time": "2017-11-12T14:19:14.210000Z"
    }
   },
   "outputs": [],
   "source": [
    "span_feature=pd.merge(user_df,span_order_feature,on='uid',how='left')\n",
    "span_feature=pd.merge(span_feature,span_loan_feature,on='uid',how='left')\n",
    "span_feature.drop(['active_date'],axis=1,inplace=True)"
   ]
  },
  {
   "cell_type": "code",
   "execution_count": 353,
   "metadata": {
    "ExecuteTime": {
     "end_time": "2017-11-12T14:20:26.832000Z",
     "start_time": "2017-11-12T14:20:26.819000Z"
    }
   },
   "outputs": [],
   "source": [
    "span_feature.shape\n",
    "span_data=span_feature"
   ]
  },
  {
   "cell_type": "code",
   "execution_count": 267,
   "metadata": {
    "ExecuteTime": {
     "end_time": "2017-11-12T13:37:22.095000Z",
     "start_time": "2017-11-12T13:37:22.014000Z"
    }
   },
   "outputs": [],
   "source": []
  },
  {
   "cell_type": "code",
   "execution_count": 323,
   "metadata": {
    "ExecuteTime": {
     "end_time": "2017-11-12T13:55:05.117000Z",
     "start_time": "2017-11-12T13:55:05.033000Z"
    }
   },
   "outputs": [],
   "source": []
  },
  {
   "cell_type": "code",
   "execution_count": 326,
   "metadata": {
    "ExecuteTime": {
     "end_time": "2017-11-12T13:57:06.295000Z",
     "start_time": "2017-11-12T13:57:06.221000Z"
    }
   },
   "outputs": [],
   "source": []
  },
  {
   "cell_type": "code",
   "execution_count": 328,
   "metadata": {
    "ExecuteTime": {
     "end_time": "2017-11-12T13:57:23.312000Z",
     "start_time": "2017-11-12T13:57:23.294000Z"
    },
    "collapsed": true
   },
   "outputs": [
    {
     "data": {
      "text/plain": [
       "0        5.501180\n",
       "1        0.000000\n",
       "2        0.000000\n",
       "3        0.000000\n",
       "4        0.000000\n",
       "5        0.000000\n",
       "6        0.000000\n",
       "7        0.000000\n",
       "8        0.000000\n",
       "9        0.000000\n",
       "10       6.014775\n",
       "11       3.862595\n",
       "12       0.000000\n",
       "13       5.716524\n",
       "14       0.000000\n",
       "15       0.000000\n",
       "16       0.000000\n",
       "17       0.000000\n",
       "18       5.722768\n",
       "19       6.316423\n",
       "20       4.723017\n",
       "21       0.000000\n",
       "22       0.000000\n",
       "23       0.000000\n",
       "24       0.000000\n",
       "25       4.292651\n",
       "26       0.000000\n",
       "27       0.000000\n",
       "28       6.153414\n",
       "29       0.000000\n",
       "           ...   \n",
       "90963    0.000000\n",
       "90964    0.000000\n",
       "90965    0.000000\n",
       "90966    0.000000\n",
       "90967    0.000000\n",
       "90968    5.014930\n",
       "90969    0.000000\n",
       "90970    0.000000\n",
       "90971    0.000000\n",
       "90972    0.000000\n",
       "90973    0.000000\n",
       "90974    0.000000\n",
       "90975    0.000000\n",
       "90976    0.000000\n",
       "90977    0.000000\n",
       "90978    0.000000\n",
       "90979    5.501180\n",
       "90980    0.000000\n",
       "90981    0.000000\n",
       "90982    0.000000\n",
       "90983    0.000000\n",
       "90984    5.657311\n",
       "90985    0.000000\n",
       "90986    0.000000\n",
       "90987    0.000000\n",
       "90988    0.000000\n",
       "90989    0.000000\n",
       "90990    5.722768\n",
       "90991    0.000000\n",
       "90992    0.000000\n",
       "Name: loan_sum, Length: 90993, dtype: float64"
      ]
     },
     "execution_count": 328,
     "metadata": {},
     "output_type": "execute_result"
    }
   ],
   "source": [
    "train_data['loan_sum']"
   ]
  },
  {
   "cell_type": "code",
   "execution_count": 329,
   "metadata": {
    "ExecuteTime": {
     "end_time": "2017-11-12T13:57:33.739000Z",
     "start_time": "2017-11-12T13:57:33.652000Z"
    }
   },
   "outputs": [
    {
     "name": "stderr",
     "output_type": "stream",
     "text": [
      "D:\\Anaconda\\lib\\site-packages\\sklearn\\cross_validation.py:44: DeprecationWarning: This module was deprecated in version 0.18 in favor of the model_selection module into which all the refactored classes and functions are moved. Also note that the interface of the new CV iterators are different from that of this module. This module will be removed in 0.20.\n",
      "  \"This module will be removed in 0.20.\", DeprecationWarning)\n"
     ]
    }
   ],
   "source": [
    "import xgboost as xgb"
   ]
  },
  {
   "cell_type": "code",
   "execution_count": 354,
   "metadata": {
    "ExecuteTime": {
     "end_time": "2017-11-12T14:20:29.869000Z",
     "start_time": "2017-11-12T14:20:29.812000Z"
    }
   },
   "outputs": [],
   "source": [
    "used_features=list(train_data.columns)\n",
    "used_features.remove('uid')\n",
    "used_features.remove('loan_sum')\n",
    "train_df=train_data[used_features]\n",
    "train_target=train_data.loan_sum\n",
    "span_df=span_data[used_features]"
   ]
  },
  {
   "cell_type": "code",
   "execution_count": 359,
   "metadata": {
    "ExecuteTime": {
     "end_time": "2017-11-12T14:24:23.317000Z",
     "start_time": "2017-11-12T14:24:22.634000Z"
    }
   },
   "outputs": [
    {
     "name": "stdout",
     "output_type": "stream",
     "text": [
      "1.90695926505\n"
     ]
    }
   ],
   "source": [
    "dtrain=xgb.DMatrix(train_df,label=train_target)\n",
    "dspan=xgb.DMatrix(span_df)\n",
    "our_params={'eta':0.1,'seed':0,'subsample':0.8,'colsample_bytree':0.8,'objective':'reg:linear','max_depth':3,'min_child_weight':1}\n",
    "model=xgb.train(our_params,dtrain)\n",
    "train_predict=model.predict(dtrain)\n",
    "print calc_RMSE(list(train_target),list(train_predict))\n",
    "span_predict=model.predict(dspan)\n",
    "span_result=pd.DataFrame()\n",
    "span_result['uid']=span_data['uid']\n",
    "span_result['predict']=span_predict"
   ]
  },
  {
   "cell_type": "code",
   "execution_count": 363,
   "metadata": {
    "ExecuteTime": {
     "end_time": "2017-11-12T14:24:47.448000Z",
     "start_time": "2017-11-12T14:24:47.431000Z"
    }
   },
   "outputs": [
    {
     "data": {
      "text/plain": [
       "0.3461951"
      ]
     },
     "execution_count": 363,
     "metadata": {},
     "output_type": "execute_result"
    }
   ],
   "source": [
    "span_result['predict']"
   ]
  },
  {
   "cell_type": "code",
   "execution_count": 364,
   "metadata": {
    "ExecuteTime": {
     "end_time": "2017-11-12T14:25:20.279000Z",
     "start_time": "2017-11-12T14:25:20.079000Z"
    }
   },
   "outputs": [],
   "source": [
    "span_result.to_csv('./result.csv',index=False)"
   ]
  },
  {
   "cell_type": "code",
   "execution_count": 319,
   "metadata": {
    "ExecuteTime": {
     "end_time": "2017-11-12T13:54:22.544000Z",
     "start_time": "2017-11-12T13:54:22.527000Z"
    }
   },
   "outputs": [],
   "source": [
    "def calc_RMSE(true_y,predict_y):\n",
    "    n=len(true_y)\n",
    "    result=0\n",
    "    for i in range(n):\n",
    "        result+=pow((true_y[i]-predict_y[i]),2)\n",
    "    return math.sqrt(1.0*result/n)"
   ]
  },
  {
   "cell_type": "code",
   "execution_count": null,
   "metadata": {
    "ExecuteTime": {
     "end_time": "2017-11-12T13:54:23.020000Z",
     "start_time": "2017-11-12T13:54:23.008000Z"
    }
   },
   "outputs": [],
   "source": []
  },
  {
   "cell_type": "code",
   "execution_count": 316,
   "metadata": {
    "ExecuteTime": {
     "end_time": "2017-11-12T13:54:07.604000Z",
     "start_time": "2017-11-12T13:54:07.595000Z"
    },
    "collapsed": true
   },
   "outputs": [],
   "source": [
    "import math"
   ]
  },
  {
   "cell_type": "code",
   "execution_count": null,
   "metadata": {
    "ExecuteTime": {
     "end_time": "2017-11-10T11:09:24.554000Z",
     "start_time": "2017-11-10T11:09:24.541000Z"
    },
    "collapsed": true
   },
   "outputs": [],
   "source": []
  },
  {
   "cell_type": "code",
   "execution_count": null,
   "metadata": {
    "collapsed": true
   },
   "outputs": [],
   "source": []
  }
 ],
 "metadata": {
  "kernelspec": {
   "display_name": "Python 2",
   "language": "python",
   "name": "python2"
  },
  "language_info": {
   "codemirror_mode": {
    "name": "ipython",
    "version": 2
   },
   "file_extension": ".py",
   "mimetype": "text/x-python",
   "name": "python",
   "nbconvert_exporter": "python",
   "pygments_lexer": "ipython2",
   "version": "2.7.13"
  },
  "toc": {
   "nav_menu": {},
   "number_sections": true,
   "sideBar": true,
   "skip_h1_title": false,
   "toc_cell": false,
   "toc_position": {
    "height": "402px",
    "left": "0px",
    "right": "880.8px",
    "top": "108px",
    "width": "212px"
   },
   "toc_section_display": "block",
   "toc_window_display": true
  }
 },
 "nbformat": 4,
 "nbformat_minor": 2
}
