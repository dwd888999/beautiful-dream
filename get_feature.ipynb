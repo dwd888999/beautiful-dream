{
 "cells": [
  {
   "cell_type": "code",
   "execution_count": 48,
   "metadata": {
    "ExecuteTime": {
     "end_time": "2017-11-09T10:54:28.998000Z",
     "start_time": "2017-11-09T10:54:28.989000Z"
    },
    "collapsed": true
   },
   "outputs": [],
   "source": [
    "import pandas as pd\n",
    "import os\n",
    "import matplotlib\n",
    "import itchat\n",
    "%matplotlib inline"
   ]
  },
  {
   "cell_type": "code",
   "execution_count": null,
   "metadata": {
    "ExecuteTime": {
     "end_time": "2017-11-09T10:55:06.559000Z",
     "start_time": "2017-11-09T10:54:55.873000Z"
    }
   },
   "outputs": [],
   "source": []
  },
  {
   "cell_type": "code",
   "execution_count": null,
   "metadata": {
    "ExecuteTime": {
     "end_time": "2017-11-09T10:58:22.027000Z",
     "start_time": "2017-11-09T10:58:00.091000Z"
    }
   },
   "outputs": [],
   "source": []
  },
  {
   "cell_type": "code",
   "execution_count": 8,
   "metadata": {
    "ExecuteTime": {
     "end_time": "2017-11-09T10:04:16.889000Z",
     "start_time": "2017-11-09T10:04:00.639000Z"
    },
    "collapsed": true
   },
   "outputs": [],
   "source": [
    "user_df=pd.read_csv('./data/t_user.csv')\n",
    "order_df=pd.read_csv('./data/t_order.csv')\n",
    "loan_df=pd.read_csv('./data/t_loan.csv')\n",
    "loan_sum_df=pd.read_csv('./data/t_loan_sum.csv')\n",
    "click_df=pd.read_csv('./data/t_click.csv')"
   ]
  },
  {
   "cell_type": "code",
   "execution_count": 288,
   "metadata": {
    "ExecuteTime": {
     "end_time": "2017-11-12T13:44:30.241000Z",
     "start_time": "2017-11-12T13:44:24.429000Z"
    },
    "collapsed": true
   },
   "outputs": [],
   "source": [
    "loan_dt=datetime.datetime.strptime('2016-11-01 00:00:00','%Y-%m-%d %H:%M:%S')\n",
    "loan_df['loan_gap']=loan_df['loan_time'].apply(lambda x: loan_dt- (datetime.datetime.strptime(x,'%Y-%m-%d %H:%M:%S')))\n",
    "loan_df['loan_gap']=loan_df['loan_gap'].apply(lambda x: x.days)"
   ]
  },
  {
   "cell_type": "markdown",
   "metadata": {},
   "source": [
    "### 划分样本集"
   ]
  },
  {
   "cell_type": "code",
   "execution_count": 293,
   "metadata": {
    "ExecuteTime": {
     "end_time": "2017-11-12T13:45:03.922000Z",
     "start_time": "2017-11-12T13:44:59.378000Z"
    },
    "collapsed": true
   },
   "outputs": [],
   "source": [
    "train_time='2016-11-01'\n",
    "span_time='2016-09-01'\n",
    "train_order_df=order_df[order_df['buy_time']<train_time]\n",
    "train_click_df=click_df[click_df['click_time']<train_time]\n",
    "train_loan_df=loan_df[loan_df['loan_time']<train_time]\n",
    "span_order_df=order_df[order_df['buy_time']>=span_time]\n",
    "span_click_df=click_df[click_df['click_time']>=span_time]\n",
    "span_loan_df=loan_df[loan_df['loan_time']>=span_time]"
   ]
  },
  {
   "cell_type": "code",
   "execution_count": null,
   "metadata": {
    "ExecuteTime": {
     "end_time": "2017-11-12T13:45:11.047000Z",
     "start_time": "2017-11-12T13:45:10.967000Z"
    },
    "collapsed": true
   },
   "outputs": [],
   "source": []
  },
  {
   "cell_type": "markdown",
   "metadata": {
    "ExecuteTime": {
     "end_time": "2017-11-09T10:42:58.490000Z",
     "start_time": "2017-11-09T10:42:58.421000Z"
    }
   },
   "source": [
    "### 获取用户订单信息"
   ]
  },
  {
   "cell_type": "code",
   "execution_count": null,
   "metadata": {
    "ExecuteTime": {
     "end_time": "2017-11-11T03:20:47.106000Z",
     "start_time": "2017-11-11T03:20:47.092000Z"
    },
    "collapsed": true
   },
   "outputs": [],
   "source": []
  },
  {
   "cell_type": "code",
   "execution_count": null,
   "metadata": {
    "ExecuteTime": {
     "end_time": "2017-11-09T13:07:00.396000Z",
     "start_time": "2017-11-09T13:07:00.387000Z"
    },
    "collapsed": true
   },
   "outputs": [],
   "source": []
  },
  {
   "cell_type": "markdown",
   "metadata": {
    "ExecuteTime": {
     "end_time": "2017-11-09T13:07:56.124000Z",
     "start_time": "2017-11-09T13:07:56.109000Z"
    }
   },
   "source": []
  },
  {
   "cell_type": "code",
   "execution_count": 259,
   "metadata": {
    "ExecuteTime": {
     "end_time": "2017-11-12T13:28:47.774000Z",
     "start_time": "2017-11-12T13:28:47.749000Z"
    },
    "collapsed": true
   },
   "outputs": [],
   "source": [
    "def get_order_feature(df):\n",
    "    order_group=df.groupby('uid')\n",
    "    order_feature=[]\n",
    "    for uid,group in order_group:\n",
    "        group=group.reset_index()\n",
    "        order_feature_dict={}\n",
    "        order_feature_dict['uid']=uid\n",
    "        order_feature_dict['total_order']=len(group)\n",
    "        order_feature_dict['unique_cate_count']=len(group['cate_id'].unique())\n",
    "        order_feature_dict['max_qty']=group['qty'].max()\n",
    "        order_feature_dict['max_price']=group['price'].max()\n",
    "        order_feature_dict['max_discount']=group['discount'].max()\n",
    "        total_price=0\n",
    "        for i in range(len(group)):\n",
    "            total_price+=group.loc[i,'qty']*group.loc[i,'price']\n",
    "        order_feature_dict['total_price']=total_price\n",
    "        order_feature.append(order_feature_dict)\n",
    "    order_feature_df=pd.DataFrame(order_feature)\n",
    "    return order_feature_df"
   ]
  },
  {
   "cell_type": "code",
   "execution_count": 175,
   "metadata": {
    "ExecuteTime": {
     "end_time": "2017-11-11T03:26:03.584000Z",
     "start_time": "2017-11-11T03:26:03.152000Z"
    },
    "collapsed": true
   },
   "outputs": [],
   "source": [
    "order_feature_df.to_csv('./feature/order_feature.csv',index=False)"
   ]
  },
  {
   "cell_type": "code",
   "execution_count": 180,
   "metadata": {
    "ExecuteTime": {
     "end_time": "2017-11-11T03:29:38.526000Z",
     "start_time": "2017-11-11T03:29:38.088000Z"
    },
    "collapsed": true
   },
   "outputs": [],
   "source": []
  },
  {
   "cell_type": "code",
   "execution_count": null,
   "metadata": {
    "ExecuteTime": {
     "end_time": "2017-11-11T03:28:10.700000Z",
     "start_time": "2017-11-11T03:28:10.687000Z"
    },
    "collapsed": true
   },
   "outputs": [],
   "source": []
  },
  {
   "cell_type": "code",
   "execution_count": null,
   "metadata": {
    "ExecuteTime": {
     "end_time": "2017-11-11T03:28:46.037000Z",
     "start_time": "2017-11-11T03:28:46.018000Z"
    },
    "collapsed": true
   },
   "outputs": [],
   "source": []
  },
  {
   "cell_type": "markdown",
   "metadata": {
    "ExecuteTime": {
     "end_time": "2017-11-09T12:14:01.020000Z",
     "start_time": "2017-11-09T12:14:01.003000Z"
    }
   },
   "source": [
    "### 提取历史借贷行为 "
   ]
  },
  {
   "cell_type": "code",
   "execution_count": 251,
   "metadata": {
    "ExecuteTime": {
     "end_time": "2017-11-12T13:20:31.791000Z",
     "start_time": "2017-11-12T13:20:25.937000Z"
    },
    "collapsed": true
   },
   "outputs": [],
   "source": []
  },
  {
   "cell_type": "code",
   "execution_count": 252,
   "metadata": {
    "ExecuteTime": {
     "end_time": "2017-11-12T13:20:33.794000Z",
     "start_time": "2017-11-12T13:20:33.770000Z"
    },
    "collapsed": true
   },
   "outputs": [],
   "source": [
    "loan_group=loan_df.groupby('uid')"
   ]
  },
  {
   "cell_type": "code",
   "execution_count": 310,
   "metadata": {
    "ExecuteTime": {
     "end_time": "2017-11-12T13:49:22.703000Z",
     "start_time": "2017-11-12T13:49:22.664000Z"
    },
    "collapsed": true,
    "scrolled": true
   },
   "outputs": [],
   "source": [
    "def get_loan_feature(df):\n",
    "    loan_group=df.groupby('uid')\n",
    "    loan_feature=[]\n",
    "    cnt=0\n",
    "    for uid,group in loan_group:\n",
    "        cnt+=1\n",
    "        if cnt%10000==0:\n",
    "            print \"count total user:\",\"cnt\"\n",
    "        loan_feature_dict={}\n",
    "        group=group.reset_index()\n",
    "        loan_feature_dict['uid']=uid\n",
    "        loan_feature_dict['loan_count_3m']=len(group)\n",
    "        loan_feature_dict['loan_amout__3m']=group['loan_amount'].sum()\n",
    "        loan_gap=list(group['loan_gap'])\n",
    "        for day_diff in [7,14,21,28,35,42,49,56,63,70,90]:\n",
    "            loan_feature_dict['last_'+str(day_diff)+'_day_loan_count']=len([i for i in loan_gap if i <=day_diff])\n",
    "            loan_feature_dict['last_'+str(day_diff)+'_day_loan_amount']=sum([group.loc[loan_gap.index(i),'loan_amount'] for i in loan_gap if i<=day_diff])\n",
    "        loan_feature.append(loan_feature_dict)\n",
    "    return pd.DataFrame(loan_feature)"
   ]
  },
  {
   "cell_type": "code",
   "execution_count": 258,
   "metadata": {
    "ExecuteTime": {
     "end_time": "2017-11-12T13:26:38.434000Z",
     "start_time": "2017-11-12T13:26:37.980000Z"
    },
    "collapsed": true
   },
   "outputs": [],
   "source": [
    "loan_feature_df=pd.DataFrame(loan_feature)"
   ]
  },
  {
   "cell_type": "markdown",
   "metadata": {
    "ExecuteTime": {
     "end_time": "2017-11-12T13:14:18.523000Z",
     "start_time": "2017-11-12T13:14:18.504000Z"
    }
   },
   "source": [
    "### merge feature"
   ]
  },
  {
   "cell_type": "markdown",
   "metadata": {
    "ExecuteTime": {
     "end_time": "2017-11-12T13:23:17.007000Z",
     "start_time": "2017-11-12T13:23:16.615000Z"
    },
    "collapsed": true
   },
   "source": [
    "#### 训练集特征"
   ]
  },
  {
   "cell_type": "code",
   "execution_count": 263,
   "metadata": {
    "ExecuteTime": {
     "end_time": "2017-11-12T13:36:35.131000Z",
     "start_time": "2017-11-12T13:32:38.409000Z"
    },
    "collapsed": true
   },
   "outputs": [],
   "source": []
  },
  {
   "cell_type": "code",
   "execution_count": 311,
   "metadata": {
    "ExecuteTime": {
     "end_time": "2017-11-12T13:50:25.440000Z",
     "start_time": "2017-11-12T13:49:37.534000Z"
    }
   },
   "outputs": [
    {
     "name": "stdout",
     "output_type": "stream",
     "text": [
      "(155047, 5)\n",
      "33190\n",
      "count total user: cnt\n",
      "count total user: cnt\n",
      "count total user: cnt\n"
     ]
    }
   ],
   "source": [
    "train_order_feature=get_order_feature(train_order_df)\n",
    "train_loan_feature=get_loan_feature(train_loan_df)\n",
    "train_feature=pd.merge(user_df,train_order_feature,on='uid',how='left')\n",
    "train_feature=pd.merge(train_feature,train_loan_feature,on='uid',how='left')\n",
    "train_label=pd.merge(user_df,loan_sum_df,on='uid',how='left')\n",
    "train_label.fillna(0,inplace=True)\n",
    "train_label=train_label[['uid','loan_sum']]\n",
    "train_data=pd.merge(train_label,train_feature,on='uid',how='left')\n",
    "train_data.drop(['active_date'],axis=1,inplace=True)"
   ]
  },
  {
   "cell_type": "code",
   "execution_count": 344,
   "metadata": {
    "ExecuteTime": {
     "end_time": "2017-11-12T14:15:40.026000Z",
     "start_time": "2017-11-12T14:11:08.580000Z"
    },
    "collapsed": true
   },
   "outputs": [
    {
     "name": "stdout",
     "output_type": "stream",
     "text": [
      "(154852, 5)\n",
      "33766\n",
      "count total user: cnt\n",
      "count total user: cnt\n",
      "count total user: cnt\n"
     ]
    },
    {
     "ename": "ValueError",
     "evalue": "labels ['active_date'] not contained in axis",
     "output_type": "error",
     "traceback": [
      "\u001b[1;31m---------------------------------------------------------------------------\u001b[0m",
      "\u001b[1;31mValueError\u001b[0m                                Traceback (most recent call last)",
      "\u001b[1;32m<ipython-input-344-b01b23ab15e5>\u001b[0m in \u001b[0;36m<module>\u001b[1;34m()\u001b[0m\n\u001b[0;32m      4\u001b[0m \u001b[0mspan_feature\u001b[0m\u001b[1;33m=\u001b[0m\u001b[0mpd\u001b[0m\u001b[1;33m.\u001b[0m\u001b[0mmerge\u001b[0m\u001b[1;33m(\u001b[0m\u001b[0mspan_feature\u001b[0m\u001b[1;33m,\u001b[0m\u001b[0mspan_loan_feature\u001b[0m\u001b[1;33m,\u001b[0m\u001b[0mon\u001b[0m\u001b[1;33m=\u001b[0m\u001b[1;34m'uid'\u001b[0m\u001b[1;33m,\u001b[0m\u001b[0mhow\u001b[0m\u001b[1;33m=\u001b[0m\u001b[1;34m'left'\u001b[0m\u001b[1;33m)\u001b[0m\u001b[1;33m\u001b[0m\u001b[0m\n\u001b[0;32m      5\u001b[0m \u001b[0mspan_data\u001b[0m\u001b[1;33m=\u001b[0m\u001b[0mpd\u001b[0m\u001b[1;33m.\u001b[0m\u001b[0mmerge\u001b[0m\u001b[1;33m(\u001b[0m\u001b[0muser_df\u001b[0m\u001b[1;33m,\u001b[0m\u001b[0mspan_feature\u001b[0m\u001b[1;33m,\u001b[0m\u001b[0mon\u001b[0m\u001b[1;33m=\u001b[0m\u001b[1;34m'uid'\u001b[0m\u001b[1;33m,\u001b[0m\u001b[0mhow\u001b[0m\u001b[1;33m=\u001b[0m\u001b[1;34m'left'\u001b[0m\u001b[1;33m)\u001b[0m\u001b[1;33m\u001b[0m\u001b[0m\n\u001b[1;32m----> 6\u001b[1;33m \u001b[0mspan_data\u001b[0m\u001b[1;33m.\u001b[0m\u001b[0mdrop\u001b[0m\u001b[1;33m(\u001b[0m\u001b[1;33m[\u001b[0m\u001b[1;34m'active_date'\u001b[0m\u001b[1;33m]\u001b[0m\u001b[1;33m,\u001b[0m\u001b[0maxis\u001b[0m\u001b[1;33m=\u001b[0m\u001b[1;36m1\u001b[0m\u001b[1;33m,\u001b[0m\u001b[0minplace\u001b[0m\u001b[1;33m=\u001b[0m\u001b[0mTrue\u001b[0m\u001b[1;33m)\u001b[0m\u001b[1;33m\u001b[0m\u001b[0m\n\u001b[0m",
      "\u001b[1;32mD:\\Anaconda\\lib\\site-packages\\pandas\\core\\generic.pyc\u001b[0m in \u001b[0;36mdrop\u001b[1;34m(self, labels, axis, level, inplace, errors)\u001b[0m\n\u001b[0;32m   2048\u001b[0m                 \u001b[0mnew_axis\u001b[0m \u001b[1;33m=\u001b[0m \u001b[0maxis\u001b[0m\u001b[1;33m.\u001b[0m\u001b[0mdrop\u001b[0m\u001b[1;33m(\u001b[0m\u001b[0mlabels\u001b[0m\u001b[1;33m,\u001b[0m \u001b[0mlevel\u001b[0m\u001b[1;33m=\u001b[0m\u001b[0mlevel\u001b[0m\u001b[1;33m,\u001b[0m \u001b[0merrors\u001b[0m\u001b[1;33m=\u001b[0m\u001b[0merrors\u001b[0m\u001b[1;33m)\u001b[0m\u001b[1;33m\u001b[0m\u001b[0m\n\u001b[0;32m   2049\u001b[0m             \u001b[1;32melse\u001b[0m\u001b[1;33m:\u001b[0m\u001b[1;33m\u001b[0m\u001b[0m\n\u001b[1;32m-> 2050\u001b[1;33m                 \u001b[0mnew_axis\u001b[0m \u001b[1;33m=\u001b[0m \u001b[0maxis\u001b[0m\u001b[1;33m.\u001b[0m\u001b[0mdrop\u001b[0m\u001b[1;33m(\u001b[0m\u001b[0mlabels\u001b[0m\u001b[1;33m,\u001b[0m \u001b[0merrors\u001b[0m\u001b[1;33m=\u001b[0m\u001b[0merrors\u001b[0m\u001b[1;33m)\u001b[0m\u001b[1;33m\u001b[0m\u001b[0m\n\u001b[0m\u001b[0;32m   2051\u001b[0m             \u001b[0mdropped\u001b[0m \u001b[1;33m=\u001b[0m \u001b[0mself\u001b[0m\u001b[1;33m.\u001b[0m\u001b[0mreindex\u001b[0m\u001b[1;33m(\u001b[0m\u001b[1;33m**\u001b[0m\u001b[1;33m{\u001b[0m\u001b[0maxis_name\u001b[0m\u001b[1;33m:\u001b[0m \u001b[0mnew_axis\u001b[0m\u001b[1;33m}\u001b[0m\u001b[1;33m)\u001b[0m\u001b[1;33m\u001b[0m\u001b[0m\n\u001b[0;32m   2052\u001b[0m             \u001b[1;32mtry\u001b[0m\u001b[1;33m:\u001b[0m\u001b[1;33m\u001b[0m\u001b[0m\n",
      "\u001b[1;32mD:\\Anaconda\\lib\\site-packages\\pandas\\core\\indexes\\base.pyc\u001b[0m in \u001b[0;36mdrop\u001b[1;34m(self, labels, errors)\u001b[0m\n\u001b[0;32m   3573\u001b[0m             \u001b[1;32mif\u001b[0m \u001b[0merrors\u001b[0m \u001b[1;33m!=\u001b[0m \u001b[1;34m'ignore'\u001b[0m\u001b[1;33m:\u001b[0m\u001b[1;33m\u001b[0m\u001b[0m\n\u001b[0;32m   3574\u001b[0m                 raise ValueError('labels %s not contained in axis' %\n\u001b[1;32m-> 3575\u001b[1;33m                                  labels[mask])\n\u001b[0m\u001b[0;32m   3576\u001b[0m             \u001b[0mindexer\u001b[0m \u001b[1;33m=\u001b[0m \u001b[0mindexer\u001b[0m\u001b[1;33m[\u001b[0m\u001b[1;33m~\u001b[0m\u001b[0mmask\u001b[0m\u001b[1;33m]\u001b[0m\u001b[1;33m\u001b[0m\u001b[0m\n\u001b[0;32m   3577\u001b[0m         \u001b[1;32mreturn\u001b[0m \u001b[0mself\u001b[0m\u001b[1;33m.\u001b[0m\u001b[0mdelete\u001b[0m\u001b[1;33m(\u001b[0m\u001b[0mindexer\u001b[0m\u001b[1;33m)\u001b[0m\u001b[1;33m\u001b[0m\u001b[0m\n",
      "\u001b[1;31mValueError\u001b[0m: labels ['active_date'] not contained in axis"
     ]
    }
   ],
   "source": [
    "span_order_feature=get_order_feature(span_order_df)\n",
    "span_loan_feature=get_loan_feature(span_loan_df)\n"
   ]
  },
  {
   "cell_type": "code",
   "execution_count": 348,
   "metadata": {
    "ExecuteTime": {
     "end_time": "2017-11-12T14:19:14.423000Z",
     "start_time": "2017-11-12T14:19:14.210000Z"
    },
    "collapsed": true
   },
   "outputs": [],
   "source": [
    "span_feature=pd.merge(user_df,span_order_feature,on='uid',how='left')\n",
    "span_feature=pd.merge(span_feature,span_loan_feature,on='uid',how='left')\n",
    "span_feature.drop(['active_date'],axis=1,inplace=True)"
   ]
  },
  {
   "cell_type": "code",
   "execution_count": 353,
   "metadata": {
    "ExecuteTime": {
     "end_time": "2017-11-12T14:20:26.832000Z",
     "start_time": "2017-11-12T14:20:26.819000Z"
    },
    "collapsed": true
   },
   "outputs": [],
   "source": [
    "span_feature.shape\n",
    "span_data=span_feature"
   ]
  },
  {
   "cell_type": "code",
   "execution_count": 267,
   "metadata": {
    "ExecuteTime": {
     "end_time": "2017-11-12T13:37:22.095000Z",
     "start_time": "2017-11-12T13:37:22.014000Z"
    },
    "collapsed": true
   },
   "outputs": [],
   "source": []
  },
  {
   "cell_type": "code",
   "execution_count": 323,
   "metadata": {
    "ExecuteTime": {
     "end_time": "2017-11-12T13:55:05.117000Z",
     "start_time": "2017-11-12T13:55:05.033000Z"
    },
    "collapsed": true
   },
   "outputs": [],
   "source": []
  },
  {
   "cell_type": "code",
   "execution_count": 326,
   "metadata": {
    "ExecuteTime": {
     "end_time": "2017-11-12T13:57:06.295000Z",
     "start_time": "2017-11-12T13:57:06.221000Z"
    },
    "collapsed": true
   },
   "outputs": [],
   "source": []
  },
  {
   "cell_type": "code",
   "execution_count": null,
   "metadata": {
    "ExecuteTime": {
     "end_time": "2017-11-12T13:57:23.312000Z",
     "start_time": "2017-11-12T13:57:23.294000Z"
    },
    "collapsed": true
   },
   "outputs": [],
   "source": []
  },
  {
   "cell_type": "code",
   "execution_count": 329,
   "metadata": {
    "ExecuteTime": {
     "end_time": "2017-11-12T13:57:33.739000Z",
     "start_time": "2017-11-12T13:57:33.652000Z"
    }
   },
   "outputs": [
    {
     "name": "stderr",
     "output_type": "stream",
     "text": [
      "D:\\Anaconda\\lib\\site-packages\\sklearn\\cross_validation.py:44: DeprecationWarning: This module was deprecated in version 0.18 in favor of the model_selection module into which all the refactored classes and functions are moved. Also note that the interface of the new CV iterators are different from that of this module. This module will be removed in 0.20.\n",
      "  \"This module will be removed in 0.20.\", DeprecationWarning)\n"
     ]
    }
   ],
   "source": [
    "import xgboost as xgb"
   ]
  },
  {
   "cell_type": "code",
   "execution_count": 354,
   "metadata": {
    "ExecuteTime": {
     "end_time": "2017-11-12T14:20:29.869000Z",
     "start_time": "2017-11-12T14:20:29.812000Z"
    },
    "collapsed": true
   },
   "outputs": [],
   "source": [
    "used_features=list(train_data.columns)\n",
    "used_features.remove('uid')\n",
    "used_features.remove('loan_sum')\n",
    "train_df=train_data[used_features]\n",
    "train_target=train_data.loan_sum\n",
    "span_df=span_data[used_features]"
   ]
  },
  {
   "cell_type": "code",
   "execution_count": 359,
   "metadata": {
    "ExecuteTime": {
     "end_time": "2017-11-12T14:24:23.317000Z",
     "start_time": "2017-11-12T14:24:22.634000Z"
    }
   },
   "outputs": [
    {
     "name": "stdout",
     "output_type": "stream",
     "text": [
      "1.90695926505\n"
     ]
    }
   ],
   "source": [
    "dtrain=xgb.DMatrix(train_df,label=train_target)\n",
    "dspan=xgb.DMatrix(span_df)\n",
    "our_params={'eta':0.1,'seed':0,'subsample':0.8,'colsample_bytree':0.8,'objective':'reg:linear','max_depth':3,'min_child_weight':1}\n",
    "model=xgb.train(our_params,dtrain)\n",
    "train_predict=model.predict(dtrain)\n",
    "print calc_RMSE(list(train_target),list(train_predict))\n",
    "span_predict=model.predict(dspan)\n",
    "span_result=pd.DataFrame()\n",
    "span_result['uid']=span_data['uid']\n",
    "span_result['predict']=span_predict"
   ]
  },
  {
   "cell_type": "code",
   "execution_count": 363,
   "metadata": {
    "ExecuteTime": {
     "end_time": "2017-11-12T14:24:47.448000Z",
     "start_time": "2017-11-12T14:24:47.431000Z"
    }
   },
   "outputs": [
    {
     "data": {
      "text/plain": [
       "0.3461951"
      ]
     },
     "execution_count": 363,
     "metadata": {},
     "output_type": "execute_result"
    }
   ],
   "source": [
    "span_result['predict']"
   ]
  },
  {
   "cell_type": "code",
   "execution_count": 364,
   "metadata": {
    "ExecuteTime": {
     "end_time": "2017-11-12T14:25:20.279000Z",
     "start_time": "2017-11-12T14:25:20.079000Z"
    },
    "collapsed": true
   },
   "outputs": [],
   "source": [
    "span_result.to_csv('./result.csv',index=False)"
   ]
  },
  {
   "cell_type": "code",
   "execution_count": 319,
   "metadata": {
    "ExecuteTime": {
     "end_time": "2017-11-12T13:54:22.544000Z",
     "start_time": "2017-11-12T13:54:22.527000Z"
    },
    "collapsed": true
   },
   "outputs": [],
   "source": [
    "def calc_RMSE(true_y,predict_y):\n",
    "    n=len(true_y)\n",
    "    result=0\n",
    "    for i in range(n):\n",
    "        result+=pow((true_y[i]-predict_y[i]),2)\n",
    "    return math.sqrt(1.0*result/n)"
   ]
  },
  {
   "cell_type": "code",
   "execution_count": null,
   "metadata": {
    "ExecuteTime": {
     "end_time": "2017-11-12T13:54:23.020000Z",
     "start_time": "2017-11-12T13:54:23.008000Z"
    },
    "collapsed": true
   },
   "outputs": [],
   "source": []
  },
  {
   "cell_type": "code",
   "execution_count": 316,
   "metadata": {
    "ExecuteTime": {
     "end_time": "2017-11-12T13:54:07.604000Z",
     "start_time": "2017-11-12T13:54:07.595000Z"
    },
    "collapsed": true
   },
   "outputs": [],
   "source": [
    "import math"
   ]
  },
  {
   "cell_type": "code",
   "execution_count": null,
   "metadata": {
    "ExecuteTime": {
     "end_time": "2017-11-10T11:09:24.554000Z",
     "start_time": "2017-11-10T11:09:24.541000Z"
    },
    "collapsed": true
   },
   "outputs": [],
   "source": []
  },
  {
   "cell_type": "code",
   "execution_count": null,
   "metadata": {
    "collapsed": true
   },
   "outputs": [],
   "source": []
  }
 ],
 "metadata": {
  "kernelspec": {
   "display_name": "Python 2",
   "language": "python",
   "name": "python2"
  },
  "language_info": {
   "codemirror_mode": {
    "name": "ipython",
    "version": 2
   },
   "file_extension": ".py",
   "mimetype": "text/x-python",
   "name": "python",
   "nbconvert_exporter": "python",
   "pygments_lexer": "ipython2",
   "version": "2.7.13"
  },
  "toc": {
   "nav_menu": {},
   "number_sections": true,
   "sideBar": true,
   "skip_h1_title": false,
   "toc_cell": false,
   "toc_position": {
    "height": "402px",
    "left": "0px",
    "right": "880.8px",
    "top": "108px",
    "width": "212px"
   },
   "toc_section_display": "block",
   "toc_window_display": true
  }
 },
 "nbformat": 4,
 "nbformat_minor": 2
}
